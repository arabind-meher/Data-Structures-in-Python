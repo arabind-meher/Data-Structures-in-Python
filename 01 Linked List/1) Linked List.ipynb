{
 "cells": [
  {
   "cell_type": "markdown",
   "id": "0b098607",
   "metadata": {},
   "source": [
    "# 1) Linked List\n",
    "---\n",
    "A linked list is a sequence of data structures, which are connected together via links.\n",
    "\n",
    "Linked List is a sequence of links which contains items. Each link contains a connection to another link. Linked list is the second most-used data structure after array. Following are the important terms to understand the concept of Linked List.\n",
    "\n",
    "- Link − Each link of a linked list can store a data called an element.\n",
    "- Next − Each link of a linked list contains a link to the next link called Next.\n",
    "- LinkedList − A Linked List contains the connection link to the first link called First.\n",
    "\n",
    "### Types of Linked List\n",
    "\n",
    "Following are the various types of linked list.\n",
    "\n",
    "- Simple Linked List − Item navigation is forward only.\n",
    "- Doubly Linked List − Items can be navigated forward and backward.\n",
    "- Circular Linked List − Last item contains link of the first element as next and the first element has a link to the last element as previous.\n",
    "\n",
    "### Basic Operations\n",
    "\n",
    "Following are the basic operations supported by a list.\n",
    "\n",
    "- Insertion − Adds an element at the beginning of the list.\n",
    "- Deletion − Deletes an element at the beginning of the list.\n",
    "- Display − Displays the complete list.\n",
    "- Search − Searches an element using the given key.\n",
    "- Delete − Deletes an element using the given key.\n"
   ]
  },
  {
   "cell_type": "code",
   "execution_count": null,
   "id": "d1348f5b",
   "metadata": {},
   "outputs": [],
   "source": []
  }
 ],
 "metadata": {
  "kernelspec": {
   "display_name": "data",
   "language": "python",
   "name": "data"
  },
  "language_info": {
   "codemirror_mode": {
    "name": "ipython",
    "version": 3
   },
   "file_extension": ".py",
   "mimetype": "text/x-python",
   "name": "python",
   "nbconvert_exporter": "python",
   "pygments_lexer": "ipython3",
   "version": "3.9.12"
  }
 },
 "nbformat": 4,
 "nbformat_minor": 5
}
